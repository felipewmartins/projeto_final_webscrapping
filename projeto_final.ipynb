{
 "cells": [
  {
   "cell_type": "markdown",
   "metadata": {},
   "source": [
    "### Captura de dados do site \"O Pensador\" e armazenamento em um Dataframe"
   ]
  },
  {
   "cell_type": "code",
   "execution_count": 1,
   "metadata": {},
   "outputs": [],
   "source": [
    "import requests as req\n",
    "from bs4 import BeautifulSoup\n",
    "\n",
    "frases = []\n",
    "\n",
    "paginas = []\n",
    "for i in range(10):\n",
    "    soup = BeautifulSoup(req.get(f'https://www.pensador.com/frases_famosas/{i}').content, 'html.parser')\n",
    "    for item in soup.find_all('p', class_='frase fr'):\n",
    "        frases.append(item.text)"
   ]
  },
  {
   "cell_type": "code",
   "execution_count": 2,
   "metadata": {},
   "outputs": [],
   "source": [
    "from sklearn.feature_extraction.text import CountVectorizer\n",
    "from sklearn.metrics.pairwise import cosine_similarity\n",
    "import pandas as pd\n",
    "\n",
    "def calcular_bag_of_words(frases):\n",
    "    vectorizer = CountVectorizer()\n",
    "\n",
    "    bow_matrix = vectorizer.fit_transform(frases)\n",
    "\n",
    "    bow_array = bow_matrix.toarray()\n",
    "\n",
    "    vocabulario = vectorizer.get_feature_names_out()\n",
    "    \n",
    "    return bow_array, vectorizer, vocabulario\n",
    "\n",
    "def calcular_distancia_cosseno(vetor_teste, outros_vetores):\n",
    "    sim_cosseno = cosine_similarity([vetor_teste], outros_vetores)\n",
    "    dist_cosseno = 1 - sim_cosseno\n",
    "    return dist_cosseno\n",
    "\n",
    "frase_referencia = 'Você enfrentará muitas derrotas na vida, mas nunca se deixe ser derrotado.'\n",
    "\n",
    "\n",
    "vetores_bow, vectorizer, vocabulario = calcular_bag_of_words(frases)"
   ]
  },
  {
   "cell_type": "code",
   "execution_count": 3,
   "metadata": {},
   "outputs": [
    {
     "name": "stdout",
     "output_type": "stream",
     "text": [
      "Distâncias Cosseno:\n"
     ]
    }
   ],
   "source": [
    "vetor_teste = vectorizer.transform([frase_referencia]).toarray()\n",
    "\n",
    "distancias_cosseno = calcular_distancia_cosseno(vetor_teste[0], vetores_bow)\n",
    "\n",
    "coordenadas_distancias = []\n",
    "\n",
    "print(\"Distâncias Cosseno:\")\n",
    "for i, dist in enumerate(distancias_cosseno[0]): \n",
    "    coordenadas_distancias.append({'Frases': frases[i], 'distancia': dist})\n",
    "\n",
    "df_distancias = pd.DataFrame(coordenadas_distancias).sort_values(by='distancia')\n",
    "\n",
    "df_distancias.to_csv('similaridade_frases.csv')"
   ]
  },
  {
   "cell_type": "code",
   "execution_count": null,
   "metadata": {},
   "outputs": [],
   "source": []
  }
 ],
 "metadata": {
  "kernelspec": {
   "display_name": "web-scraping",
   "language": "python",
   "name": "python3"
  },
  "language_info": {
   "codemirror_mode": {
    "name": "ipython",
    "version": 3
   },
   "file_extension": ".py",
   "mimetype": "text/x-python",
   "name": "python",
   "nbconvert_exporter": "python",
   "pygments_lexer": "ipython3",
   "version": "3.12.2"
  }
 },
 "nbformat": 4,
 "nbformat_minor": 2
}
